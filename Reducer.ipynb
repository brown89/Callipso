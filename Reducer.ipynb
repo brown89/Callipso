{
 "cells": [
  {
   "cell_type": "code",
   "execution_count": 1,
   "metadata": {},
   "outputs": [
    {
     "name": "stderr",
     "output_type": "stream",
     "text": [
      "c:\\Users\\BjoernSchytzBruun\\OneDrive - RadiSurf ApS\\Dokumenter - Shared Drive\\Working folders\\Bjoern_WorkingFolder\\Programming\\Python\\Callipso\\Modules\\Readers\\_scan_reader.py:194: SyntaxWarning: invalid escape sequence '\\d'\n",
      "  \"\"\"\n"
     ]
    }
   ],
   "source": [
    "import os\n",
    "from Modules import JAW\n",
    "\n",
    "in_dir = r\"C:\\Users\\BjoernSchytzBruun\\OneDrive - RadiSurf ApS\\Dokumenter - Shared Drive\\Working folders\\Christina working folder\\Ellipsometry work\\Focusprobe mapping\"\n",
    "filename = \"70nmPHEMA-BiBB(DMF)-PMMA post DCM_2.txt\"\n",
    "\n",
    "out_dir = r\"C:\\Users\\BjoernSchytzBruun\\Downloads\""
   ]
  },
  {
   "cell_type": "code",
   "execution_count": 2,
   "metadata": {},
   "outputs": [
    {
     "name": "stdout",
     "output_type": "stream",
     "text": [
      "<class 'pandas.core.frame.DataFrame'>\n",
      "RangeIndex: 383 entries, 0 to 382\n",
      "Data columns (total 7 columns):\n",
      " #   Column          Non-Null Count  Dtype  \n",
      "---  ------          --------------  -----  \n",
      " 0   mse             383 non-null    float64\n",
      " 1   thickness_nm    383 non-null    float64\n",
      " 2   a               383 non-null    float64\n",
      " 3   b               383 non-null    float64\n",
      " 4   n_cauchy_632nm  383 non-null    float64\n",
      " 5   x               383 non-null    float64\n",
      " 6   y               383 non-null    float64\n",
      "dtypes: float64(7)\n",
      "memory usage: 21.1 KB\n",
      "None\n"
     ]
    }
   ],
   "source": [
    "data = JAW.read_text_file(os.path.join(in_dir, filename))\n",
    "\n",
    "print(data.info())"
   ]
  },
  {
   "cell_type": "code",
   "execution_count": 7,
   "metadata": {},
   "outputs": [
    {
     "name": "stdout",
     "output_type": "stream",
     "text": [
      "<class 'pandas.core.frame.DataFrame'>\n",
      "RangeIndex: 383 entries, 0 to 382\n",
      "Data columns (total 3 columns):\n",
      " #   Column  Non-Null Count  Dtype  \n",
      "---  ------  --------------  -----  \n",
      " 0   x       383 non-null    float64\n",
      " 1   y       383 non-null    float64\n",
      " 2   z       383 non-null    float64\n",
      "dtypes: float64(3)\n",
      "memory usage: 9.1 KB\n",
      "None\n"
     ]
    },
    {
     "name": "stderr",
     "output_type": "stream",
     "text": [
      "C:\\Users\\BjoernSchytzBruun\\AppData\\Local\\Temp\\ipykernel_11724\\1342640057.py:2: SettingWithCopyWarning: \n",
      "A value is trying to be set on a copy of a slice from a DataFrame\n",
      "\n",
      "See the caveats in the documentation: https://pandas.pydata.org/pandas-docs/stable/user_guide/indexing.html#returning-a-view-versus-a-copy\n",
      "  redu.rename(columns={'thickness_nm': 'z'}, inplace=True)\n",
      "C:\\Users\\BjoernSchytzBruun\\AppData\\Local\\Temp\\ipykernel_11724\\1342640057.py:3: SettingWithCopyWarning: \n",
      "A value is trying to be set on a copy of a slice from a DataFrame.\n",
      "Try using .loc[row_indexer,col_indexer] = value instead\n",
      "\n",
      "See the caveats in the documentation: https://pandas.pydata.org/pandas-docs/stable/user_guide/indexing.html#returning-a-view-versus-a-copy\n",
      "  redu[['x', 'y']] = redu[['x', 'y']].apply(lambda i: i*10)\n"
     ]
    }
   ],
   "source": [
    "redu = data[['x', 'y', 'thickness_nm']]\n",
    "redu.rename(columns={'thickness_nm': 'z'}, inplace=True)\n",
    "redu[['x', 'y']] = redu[['x', 'y']].apply(lambda i: i*10)\n",
    "print(redu.info())"
   ]
  },
  {
   "cell_type": "code",
   "execution_count": 8,
   "metadata": {},
   "outputs": [],
   "source": [
    "redu.to_csv(os.path.join(out_dir, \"JAWxDash_383.csv\"), index=False)"
   ]
  }
 ],
 "metadata": {
  "kernelspec": {
   "display_name": ".venv",
   "language": "python",
   "name": "python3"
  },
  "language_info": {
   "codemirror_mode": {
    "name": "ipython",
    "version": 3
   },
   "file_extension": ".py",
   "mimetype": "text/x-python",
   "name": "python",
   "nbconvert_exporter": "python",
   "pygments_lexer": "ipython3",
   "version": "3.12.1"
  }
 },
 "nbformat": 4,
 "nbformat_minor": 2
}
